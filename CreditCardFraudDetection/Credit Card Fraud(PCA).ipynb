{
 "cells": [
  {
   "cell_type": "code",
   "execution_count": 47,
   "metadata": {
    "collapsed": false
   },
   "outputs": [
    {
     "name": "stdout",
     "output_type": "stream",
     "text": [
      "The rpy2.ipython extension is already loaded. To reload it, use:\n",
      "  %reload_ext rpy2.ipython\n"
     ]
    }
   ],
   "source": [
    "%load_ext rpy2.ipython\n",
    "%matplotlib inline\n",
    "import seaborn as sns\n",
    "import numpy as np\n",
    "import matplotlib.pyplot as plt\n",
    "import pandas as pd\n",
    "import math\n",
    "from scipy.stats import mode,skew,skewtest\n",
    "\n",
    "from sklearn.preprocessing import StandardScaler\n",
    "from sklearn.ensemble import RandomForestClassifier,RandomForestRegressor\n",
    "from sklearn.cross_validation import train_test_split\n",
    "from sklearn.linear_model import LogisticRegression\n",
    "from sklearn.decomposition import PCA\n",
    "from sklearn import metrics\n",
    "import xgboost as xgb\n",
    "\n",
    "from imblearn.over_sampling import SMOTE"
   ]
  },
  {
   "cell_type": "code",
   "execution_count": 3,
   "metadata": {
    "collapsed": true
   },
   "outputs": [],
   "source": [
    "data=pd.read_csv('/Users/adityavyas/Desktop/Machine Learning and Data Science/Datasets/Credit Card Fraud/creditcard.csv')"
   ]
  },
  {
   "cell_type": "code",
   "execution_count": 9,
   "metadata": {
    "collapsed": false
   },
   "outputs": [],
   "source": [
    "msk=np.random.randn(len(data))<0.9\n",
    "train=data[msk]\n",
    "test=data[~msk]"
   ]
  },
  {
   "cell_type": "code",
   "execution_count": 16,
   "metadata": {
    "collapsed": false
   },
   "outputs": [
    {
     "data": {
      "text/plain": [
       "((284807, 31), (232410, 31), (52397, 31))"
      ]
     },
     "execution_count": 16,
     "metadata": {},
     "output_type": "execute_result"
    }
   ],
   "source": [
    "data.shape,train.shape,test.shape"
   ]
  },
  {
   "cell_type": "code",
   "execution_count": 17,
   "metadata": {
    "collapsed": false
   },
   "outputs": [
    {
     "data": {
      "text/html": [
       "<div>\n",
       "<table border=\"1\" class=\"dataframe\">\n",
       "  <thead>\n",
       "    <tr style=\"text-align: right;\">\n",
       "      <th></th>\n",
       "      <th>Time</th>\n",
       "      <th>V1</th>\n",
       "      <th>V2</th>\n",
       "      <th>V3</th>\n",
       "      <th>V4</th>\n",
       "      <th>V5</th>\n",
       "      <th>V6</th>\n",
       "      <th>V7</th>\n",
       "      <th>V8</th>\n",
       "      <th>V9</th>\n",
       "      <th>...</th>\n",
       "      <th>V21</th>\n",
       "      <th>V22</th>\n",
       "      <th>V23</th>\n",
       "      <th>V24</th>\n",
       "      <th>V25</th>\n",
       "      <th>V26</th>\n",
       "      <th>V27</th>\n",
       "      <th>V28</th>\n",
       "      <th>Amount</th>\n",
       "      <th>Class</th>\n",
       "    </tr>\n",
       "  </thead>\n",
       "  <tbody>\n",
       "    <tr>\n",
       "      <th>0</th>\n",
       "      <td>0.0</td>\n",
       "      <td>-1.359807</td>\n",
       "      <td>-0.072781</td>\n",
       "      <td>2.536347</td>\n",
       "      <td>1.378155</td>\n",
       "      <td>-0.338321</td>\n",
       "      <td>0.462388</td>\n",
       "      <td>0.239599</td>\n",
       "      <td>0.098698</td>\n",
       "      <td>0.363787</td>\n",
       "      <td>...</td>\n",
       "      <td>-0.018307</td>\n",
       "      <td>0.277838</td>\n",
       "      <td>-0.110474</td>\n",
       "      <td>0.066928</td>\n",
       "      <td>0.128539</td>\n",
       "      <td>-0.189115</td>\n",
       "      <td>0.133558</td>\n",
       "      <td>-0.021053</td>\n",
       "      <td>149.62</td>\n",
       "      <td>0</td>\n",
       "    </tr>\n",
       "    <tr>\n",
       "      <th>1</th>\n",
       "      <td>0.0</td>\n",
       "      <td>1.191857</td>\n",
       "      <td>0.266151</td>\n",
       "      <td>0.166480</td>\n",
       "      <td>0.448154</td>\n",
       "      <td>0.060018</td>\n",
       "      <td>-0.082361</td>\n",
       "      <td>-0.078803</td>\n",
       "      <td>0.085102</td>\n",
       "      <td>-0.255425</td>\n",
       "      <td>...</td>\n",
       "      <td>-0.225775</td>\n",
       "      <td>-0.638672</td>\n",
       "      <td>0.101288</td>\n",
       "      <td>-0.339846</td>\n",
       "      <td>0.167170</td>\n",
       "      <td>0.125895</td>\n",
       "      <td>-0.008983</td>\n",
       "      <td>0.014724</td>\n",
       "      <td>2.69</td>\n",
       "      <td>0</td>\n",
       "    </tr>\n",
       "    <tr>\n",
       "      <th>3</th>\n",
       "      <td>1.0</td>\n",
       "      <td>-0.966272</td>\n",
       "      <td>-0.185226</td>\n",
       "      <td>1.792993</td>\n",
       "      <td>-0.863291</td>\n",
       "      <td>-0.010309</td>\n",
       "      <td>1.247203</td>\n",
       "      <td>0.237609</td>\n",
       "      <td>0.377436</td>\n",
       "      <td>-1.387024</td>\n",
       "      <td>...</td>\n",
       "      <td>-0.108300</td>\n",
       "      <td>0.005274</td>\n",
       "      <td>-0.190321</td>\n",
       "      <td>-1.175575</td>\n",
       "      <td>0.647376</td>\n",
       "      <td>-0.221929</td>\n",
       "      <td>0.062723</td>\n",
       "      <td>0.061458</td>\n",
       "      <td>123.50</td>\n",
       "      <td>0</td>\n",
       "    </tr>\n",
       "    <tr>\n",
       "      <th>4</th>\n",
       "      <td>2.0</td>\n",
       "      <td>-1.158233</td>\n",
       "      <td>0.877737</td>\n",
       "      <td>1.548718</td>\n",
       "      <td>0.403034</td>\n",
       "      <td>-0.407193</td>\n",
       "      <td>0.095921</td>\n",
       "      <td>0.592941</td>\n",
       "      <td>-0.270533</td>\n",
       "      <td>0.817739</td>\n",
       "      <td>...</td>\n",
       "      <td>-0.009431</td>\n",
       "      <td>0.798278</td>\n",
       "      <td>-0.137458</td>\n",
       "      <td>0.141267</td>\n",
       "      <td>-0.206010</td>\n",
       "      <td>0.502292</td>\n",
       "      <td>0.219422</td>\n",
       "      <td>0.215153</td>\n",
       "      <td>69.99</td>\n",
       "      <td>0</td>\n",
       "    </tr>\n",
       "    <tr>\n",
       "      <th>5</th>\n",
       "      <td>2.0</td>\n",
       "      <td>-0.425966</td>\n",
       "      <td>0.960523</td>\n",
       "      <td>1.141109</td>\n",
       "      <td>-0.168252</td>\n",
       "      <td>0.420987</td>\n",
       "      <td>-0.029728</td>\n",
       "      <td>0.476201</td>\n",
       "      <td>0.260314</td>\n",
       "      <td>-0.568671</td>\n",
       "      <td>...</td>\n",
       "      <td>-0.208254</td>\n",
       "      <td>-0.559825</td>\n",
       "      <td>-0.026398</td>\n",
       "      <td>-0.371427</td>\n",
       "      <td>-0.232794</td>\n",
       "      <td>0.105915</td>\n",
       "      <td>0.253844</td>\n",
       "      <td>0.081080</td>\n",
       "      <td>3.67</td>\n",
       "      <td>0</td>\n",
       "    </tr>\n",
       "    <tr>\n",
       "      <th>6</th>\n",
       "      <td>4.0</td>\n",
       "      <td>1.229658</td>\n",
       "      <td>0.141004</td>\n",
       "      <td>0.045371</td>\n",
       "      <td>1.202613</td>\n",
       "      <td>0.191881</td>\n",
       "      <td>0.272708</td>\n",
       "      <td>-0.005159</td>\n",
       "      <td>0.081213</td>\n",
       "      <td>0.464960</td>\n",
       "      <td>...</td>\n",
       "      <td>-0.167716</td>\n",
       "      <td>-0.270710</td>\n",
       "      <td>-0.154104</td>\n",
       "      <td>-0.780055</td>\n",
       "      <td>0.750137</td>\n",
       "      <td>-0.257237</td>\n",
       "      <td>0.034507</td>\n",
       "      <td>0.005168</td>\n",
       "      <td>4.99</td>\n",
       "      <td>0</td>\n",
       "    </tr>\n",
       "    <tr>\n",
       "      <th>7</th>\n",
       "      <td>7.0</td>\n",
       "      <td>-0.644269</td>\n",
       "      <td>1.417964</td>\n",
       "      <td>1.074380</td>\n",
       "      <td>-0.492199</td>\n",
       "      <td>0.948934</td>\n",
       "      <td>0.428118</td>\n",
       "      <td>1.120631</td>\n",
       "      <td>-3.807864</td>\n",
       "      <td>0.615375</td>\n",
       "      <td>...</td>\n",
       "      <td>1.943465</td>\n",
       "      <td>-1.015455</td>\n",
       "      <td>0.057504</td>\n",
       "      <td>-0.649709</td>\n",
       "      <td>-0.415267</td>\n",
       "      <td>-0.051634</td>\n",
       "      <td>-1.206921</td>\n",
       "      <td>-1.085339</td>\n",
       "      <td>40.80</td>\n",
       "      <td>0</td>\n",
       "    </tr>\n",
       "    <tr>\n",
       "      <th>8</th>\n",
       "      <td>7.0</td>\n",
       "      <td>-0.894286</td>\n",
       "      <td>0.286157</td>\n",
       "      <td>-0.113192</td>\n",
       "      <td>-0.271526</td>\n",
       "      <td>2.669599</td>\n",
       "      <td>3.721818</td>\n",
       "      <td>0.370145</td>\n",
       "      <td>0.851084</td>\n",
       "      <td>-0.392048</td>\n",
       "      <td>...</td>\n",
       "      <td>-0.073425</td>\n",
       "      <td>-0.268092</td>\n",
       "      <td>-0.204233</td>\n",
       "      <td>1.011592</td>\n",
       "      <td>0.373205</td>\n",
       "      <td>-0.384157</td>\n",
       "      <td>0.011747</td>\n",
       "      <td>0.142404</td>\n",
       "      <td>93.20</td>\n",
       "      <td>0</td>\n",
       "    </tr>\n",
       "    <tr>\n",
       "      <th>9</th>\n",
       "      <td>9.0</td>\n",
       "      <td>-0.338262</td>\n",
       "      <td>1.119593</td>\n",
       "      <td>1.044367</td>\n",
       "      <td>-0.222187</td>\n",
       "      <td>0.499361</td>\n",
       "      <td>-0.246761</td>\n",
       "      <td>0.651583</td>\n",
       "      <td>0.069539</td>\n",
       "      <td>-0.736727</td>\n",
       "      <td>...</td>\n",
       "      <td>-0.246914</td>\n",
       "      <td>-0.633753</td>\n",
       "      <td>-0.120794</td>\n",
       "      <td>-0.385050</td>\n",
       "      <td>-0.069733</td>\n",
       "      <td>0.094199</td>\n",
       "      <td>0.246219</td>\n",
       "      <td>0.083076</td>\n",
       "      <td>3.68</td>\n",
       "      <td>0</td>\n",
       "    </tr>\n",
       "    <tr>\n",
       "      <th>10</th>\n",
       "      <td>10.0</td>\n",
       "      <td>1.449044</td>\n",
       "      <td>-1.176339</td>\n",
       "      <td>0.913860</td>\n",
       "      <td>-1.375667</td>\n",
       "      <td>-1.971383</td>\n",
       "      <td>-0.629152</td>\n",
       "      <td>-1.423236</td>\n",
       "      <td>0.048456</td>\n",
       "      <td>-1.720408</td>\n",
       "      <td>...</td>\n",
       "      <td>-0.009302</td>\n",
       "      <td>0.313894</td>\n",
       "      <td>0.027740</td>\n",
       "      <td>0.500512</td>\n",
       "      <td>0.251367</td>\n",
       "      <td>-0.129478</td>\n",
       "      <td>0.042850</td>\n",
       "      <td>0.016253</td>\n",
       "      <td>7.80</td>\n",
       "      <td>0</td>\n",
       "    </tr>\n",
       "  </tbody>\n",
       "</table>\n",
       "<p>10 rows × 31 columns</p>\n",
       "</div>"
      ],
      "text/plain": [
       "    Time        V1        V2        V3        V4        V5        V6  \\\n",
       "0    0.0 -1.359807 -0.072781  2.536347  1.378155 -0.338321  0.462388   \n",
       "1    0.0  1.191857  0.266151  0.166480  0.448154  0.060018 -0.082361   \n",
       "3    1.0 -0.966272 -0.185226  1.792993 -0.863291 -0.010309  1.247203   \n",
       "4    2.0 -1.158233  0.877737  1.548718  0.403034 -0.407193  0.095921   \n",
       "5    2.0 -0.425966  0.960523  1.141109 -0.168252  0.420987 -0.029728   \n",
       "6    4.0  1.229658  0.141004  0.045371  1.202613  0.191881  0.272708   \n",
       "7    7.0 -0.644269  1.417964  1.074380 -0.492199  0.948934  0.428118   \n",
       "8    7.0 -0.894286  0.286157 -0.113192 -0.271526  2.669599  3.721818   \n",
       "9    9.0 -0.338262  1.119593  1.044367 -0.222187  0.499361 -0.246761   \n",
       "10  10.0  1.449044 -1.176339  0.913860 -1.375667 -1.971383 -0.629152   \n",
       "\n",
       "          V7        V8        V9  ...         V21       V22       V23  \\\n",
       "0   0.239599  0.098698  0.363787  ...   -0.018307  0.277838 -0.110474   \n",
       "1  -0.078803  0.085102 -0.255425  ...   -0.225775 -0.638672  0.101288   \n",
       "3   0.237609  0.377436 -1.387024  ...   -0.108300  0.005274 -0.190321   \n",
       "4   0.592941 -0.270533  0.817739  ...   -0.009431  0.798278 -0.137458   \n",
       "5   0.476201  0.260314 -0.568671  ...   -0.208254 -0.559825 -0.026398   \n",
       "6  -0.005159  0.081213  0.464960  ...   -0.167716 -0.270710 -0.154104   \n",
       "7   1.120631 -3.807864  0.615375  ...    1.943465 -1.015455  0.057504   \n",
       "8   0.370145  0.851084 -0.392048  ...   -0.073425 -0.268092 -0.204233   \n",
       "9   0.651583  0.069539 -0.736727  ...   -0.246914 -0.633753 -0.120794   \n",
       "10 -1.423236  0.048456 -1.720408  ...   -0.009302  0.313894  0.027740   \n",
       "\n",
       "         V24       V25       V26       V27       V28  Amount  Class  \n",
       "0   0.066928  0.128539 -0.189115  0.133558 -0.021053  149.62      0  \n",
       "1  -0.339846  0.167170  0.125895 -0.008983  0.014724    2.69      0  \n",
       "3  -1.175575  0.647376 -0.221929  0.062723  0.061458  123.50      0  \n",
       "4   0.141267 -0.206010  0.502292  0.219422  0.215153   69.99      0  \n",
       "5  -0.371427 -0.232794  0.105915  0.253844  0.081080    3.67      0  \n",
       "6  -0.780055  0.750137 -0.257237  0.034507  0.005168    4.99      0  \n",
       "7  -0.649709 -0.415267 -0.051634 -1.206921 -1.085339   40.80      0  \n",
       "8   1.011592  0.373205 -0.384157  0.011747  0.142404   93.20      0  \n",
       "9  -0.385050 -0.069733  0.094199  0.246219  0.083076    3.68      0  \n",
       "10  0.500512  0.251367 -0.129478  0.042850  0.016253    7.80      0  \n",
       "\n",
       "[10 rows x 31 columns]"
      ]
     },
     "execution_count": 17,
     "metadata": {},
     "output_type": "execute_result"
    }
   ],
   "source": [
    "train.head(10)"
   ]
  },
  {
   "cell_type": "code",
   "execution_count": 19,
   "metadata": {
    "collapsed": false
   },
   "outputs": [
    {
     "data": {
      "text/plain": [
       "Time      float64\n",
       "V1        float64\n",
       "V2        float64\n",
       "V3        float64\n",
       "V4        float64\n",
       "V5        float64\n",
       "V6        float64\n",
       "V7        float64\n",
       "V8        float64\n",
       "V9        float64\n",
       "V10       float64\n",
       "V11       float64\n",
       "V12       float64\n",
       "V13       float64\n",
       "V14       float64\n",
       "V15       float64\n",
       "V16       float64\n",
       "V17       float64\n",
       "V18       float64\n",
       "V19       float64\n",
       "V20       float64\n",
       "V21       float64\n",
       "V22       float64\n",
       "V23       float64\n",
       "V24       float64\n",
       "V25       float64\n",
       "V26       float64\n",
       "V27       float64\n",
       "V28       float64\n",
       "Amount    float64\n",
       "Class       int64\n",
       "dtype: object"
      ]
     },
     "execution_count": 19,
     "metadata": {},
     "output_type": "execute_result"
    }
   ],
   "source": [
    "data.dtypes"
   ]
  },
  {
   "cell_type": "code",
   "execution_count": 20,
   "metadata": {
    "collapsed": false
   },
   "outputs": [
    {
     "data": {
      "text/plain": [
       "Time      0\n",
       "V1        0\n",
       "V2        0\n",
       "V3        0\n",
       "V4        0\n",
       "V5        0\n",
       "V6        0\n",
       "V7        0\n",
       "V8        0\n",
       "V9        0\n",
       "V10       0\n",
       "V11       0\n",
       "V12       0\n",
       "V13       0\n",
       "V14       0\n",
       "V15       0\n",
       "V16       0\n",
       "V17       0\n",
       "V18       0\n",
       "V19       0\n",
       "V20       0\n",
       "V21       0\n",
       "V22       0\n",
       "V23       0\n",
       "V24       0\n",
       "V25       0\n",
       "V26       0\n",
       "V27       0\n",
       "V28       0\n",
       "Amount    0\n",
       "Class     0\n",
       "dtype: int64"
      ]
     },
     "execution_count": 20,
     "metadata": {},
     "output_type": "execute_result"
    }
   ],
   "source": [
    "#Checking for missing values\n",
    "\n",
    "data.isnull().sum()"
   ]
  },
  {
   "cell_type": "code",
   "execution_count": 21,
   "metadata": {
    "collapsed": false
   },
   "outputs": [
    {
     "data": {
      "text/plain": [
       "<matplotlib.axes._subplots.AxesSubplot at 0x11c512d90>"
      ]
     },
     "execution_count": 21,
     "metadata": {},
     "output_type": "execute_result"
    },
    {
     "data": {
      "image/png": "[encoded data removed]",
      "text/plain": [
       "<matplotlib.figure.Figure at 0x11c506850>"
      ]
     },
     "metadata": {},
     "output_type": "display_data"
    }
   ],
   "source": [
    "#How are the classes to predict.We will leave the test data and do all our analysis on training data\n",
    "\n",
    "sns.countplot('Class',data=train)"
   ]
  },
  {
   "cell_type": "code",
   "execution_count": 22,
   "metadata": {
    "collapsed": false
   },
   "outputs": [
    {
     "data": {
      "text/plain": [
       "<matplotlib.axes._subplots.AxesSubplot at 0x11c70b110>"
      ]
     },
     "execution_count": 22,
     "metadata": {},
     "output_type": "execute_result"
    },
    {
     "data": {
      "image/png": "[encoded data removed]",
      "text/plain": [
       "<matplotlib.figure.Figure at 0x11bc7c4d0>"
      ]
     },
     "metadata": {},
     "output_type": "display_data"
    }
   ],
   "source": [
    "sns.countplot('Class',data=test)"
   ]
  },
  {
   "cell_type": "code",
   "execution_count": 23,
   "metadata": {
    "collapsed": false
   },
   "outputs": [],
   "source": [
    "#Since the classes are highly imbalanced, we will have to apply class balancing methods. We will not do SMOTE analysis\n",
    "#on test data since that is the unseen data on which we will test our models\n",
    "\n",
    "smote=SMOTE(random_state=42, k=5)\n",
    "features,labels=smote.fit_sample(train.drop('Class',1),train['Class'])"
   ]
  },
  {
   "cell_type": "code",
   "execution_count": 24,
   "metadata": {
    "collapsed": false
   },
   "outputs": [],
   "source": [
    "sampled_data=pd.DataFrame(features,columns=train.drop('Class',1).columns)\n",
    "sampled_data['Class']=labels"
   ]
  },
  {
   "cell_type": "code",
   "execution_count": 25,
   "metadata": {
    "collapsed": false
   },
   "outputs": [
    {
     "data": {
      "text/plain": [
       "<matplotlib.axes._subplots.AxesSubplot at 0x11c500390>"
      ]
     },
     "execution_count": 25,
     "metadata": {},
     "output_type": "execute_result"
    },
    {
     "data": {
      "image/png": "[encoded data removed]",
      "text/plain": [
       "<matplotlib.figure.Figure at 0x11be53f10>"
      ]
     },
     "metadata": {},
     "output_type": "display_data"
    }
   ],
   "source": [
    "sns.countplot('Class',data=sampled_data)"
   ]
  },
  {
   "cell_type": "code",
   "execution_count": 26,
   "metadata": {
    "collapsed": false
   },
   "outputs": [
    {
     "data": {
      "text/plain": [
       "<matplotlib.axes._subplots.AxesSubplot at 0x11e625c90>"
      ]
     },
     "execution_count": 26,
     "metadata": {},
     "output_type": "execute_result"
    },
    {
     "data": {
      "image/png": "[encoded data removed]",
      "text/plain": [
       "<matplotlib.figure.Figure at 0x11e684190>"
      ]
     },
     "metadata": {},
     "output_type": "display_data"
    }
   ],
   "source": [
    "#Now we can analyse the data since the class imbalancing is removed\n",
    "#Checking if the variables are related to each other or not\n",
    "\n",
    "plt.figure(figsize=(20,15))\n",
    "sns.heatmap(sampled_data.corr())"
   ]
  },
  {
   "cell_type": "code",
   "execution_count": 27,
   "metadata": {
    "collapsed": false
   },
   "outputs": [
    {
     "data": {
      "text/html": [
       "<div>\n",
       "<table border=\"1\" class=\"dataframe\">\n",
       "  <thead>\n",
       "    <tr style=\"text-align: right;\">\n",
       "      <th></th>\n",
       "      <th>Time</th>\n",
       "      <th>V1</th>\n",
       "      <th>V2</th>\n",
       "      <th>V3</th>\n",
       "      <th>V4</th>\n",
       "      <th>V5</th>\n",
       "      <th>V6</th>\n",
       "      <th>V7</th>\n",
       "      <th>V8</th>\n",
       "      <th>V9</th>\n",
       "      <th>...</th>\n",
       "      <th>V20</th>\n",
       "      <th>V21</th>\n",
       "      <th>V22</th>\n",
       "      <th>V23</th>\n",
       "      <th>V24</th>\n",
       "      <th>V25</th>\n",
       "      <th>V26</th>\n",
       "      <th>V27</th>\n",
       "      <th>V28</th>\n",
       "      <th>Amount</th>\n",
       "    </tr>\n",
       "  </thead>\n",
       "  <tbody>\n",
       "    <tr>\n",
       "      <th>count</th>\n",
       "      <td>464004.000000</td>\n",
       "      <td>464004.000000</td>\n",
       "      <td>464004.000000</td>\n",
       "      <td>464004.000000</td>\n",
       "      <td>464004.000000</td>\n",
       "      <td>464004.000000</td>\n",
       "      <td>464004.000000</td>\n",
       "      <td>464004.000000</td>\n",
       "      <td>464004.000000</td>\n",
       "      <td>464004.000000</td>\n",
       "      <td>...</td>\n",
       "      <td>464004.000000</td>\n",
       "      <td>464004.000000</td>\n",
       "      <td>464004.000000</td>\n",
       "      <td>464004.000000</td>\n",
       "      <td>464004.000000</td>\n",
       "      <td>464004.000000</td>\n",
       "      <td>464004.000000</td>\n",
       "      <td>464004.000000</td>\n",
       "      <td>464004.000000</td>\n",
       "      <td>464004.000000</td>\n",
       "    </tr>\n",
       "    <tr>\n",
       "      <th>mean</th>\n",
       "      <td>87722.742891</td>\n",
       "      <td>-2.590251</td>\n",
       "      <td>1.923229</td>\n",
       "      <td>-3.723827</td>\n",
       "      <td>2.315335</td>\n",
       "      <td>-1.726707</td>\n",
       "      <td>-0.731233</td>\n",
       "      <td>-3.003913</td>\n",
       "      <td>0.342564</td>\n",
       "      <td>-1.332016</td>\n",
       "      <td>...</td>\n",
       "      <td>0.195179</td>\n",
       "      <td>0.330063</td>\n",
       "      <td>0.022424</td>\n",
       "      <td>-0.001303</td>\n",
       "      <td>-0.042682</td>\n",
       "      <td>0.015112</td>\n",
       "      <td>0.030246</td>\n",
       "      <td>0.059494</td>\n",
       "      <td>0.031452</td>\n",
       "      <td>97.359999</td>\n",
       "    </tr>\n",
       "    <tr>\n",
       "      <th>std</th>\n",
       "      <td>48353.746797</td>\n",
       "      <td>5.588141</td>\n",
       "      <td>3.683727</td>\n",
       "      <td>6.349665</td>\n",
       "      <td>3.174911</td>\n",
       "      <td>4.225868</td>\n",
       "      <td>1.701444</td>\n",
       "      <td>5.840154</td>\n",
       "      <td>4.729680</td>\n",
       "      <td>2.276603</td>\n",
       "      <td>...</td>\n",
       "      <td>1.053814</td>\n",
       "      <td>2.603514</td>\n",
       "      <td>1.111118</td>\n",
       "      <td>0.927101</td>\n",
       "      <td>0.541073</td>\n",
       "      <td>0.605626</td>\n",
       "      <td>0.454170</td>\n",
       "      <td>0.987594</td>\n",
       "      <td>0.424124</td>\n",
       "      <td>221.640487</td>\n",
       "    </tr>\n",
       "    <tr>\n",
       "      <th>min</th>\n",
       "      <td>0.000000</td>\n",
       "      <td>-56.407510</td>\n",
       "      <td>-72.715728</td>\n",
       "      <td>-48.325589</td>\n",
       "      <td>-5.683171</td>\n",
       "      <td>-113.743307</td>\n",
       "      <td>-26.160506</td>\n",
       "      <td>-43.557242</td>\n",
       "      <td>-73.216718</td>\n",
       "      <td>-13.434066</td>\n",
       "      <td>...</td>\n",
       "      <td>-54.497720</td>\n",
       "      <td>-34.830382</td>\n",
       "      <td>-9.499423</td>\n",
       "      <td>-44.807735</td>\n",
       "      <td>-2.836627</td>\n",
       "      <td>-10.295397</td>\n",
       "      <td>-2.604551</td>\n",
       "      <td>-22.565679</td>\n",
       "      <td>-15.430084</td>\n",
       "      <td>0.000000</td>\n",
       "    </tr>\n",
       "    <tr>\n",
       "      <th>25%</th>\n",
       "      <td>45647.979035</td>\n",
       "      <td>-3.257941</td>\n",
       "      <td>-0.101052</td>\n",
       "      <td>-5.150816</td>\n",
       "      <td>-0.060523</td>\n",
       "      <td>-1.855876</td>\n",
       "      <td>-1.553848</td>\n",
       "      <td>-3.271172</td>\n",
       "      <td>-0.192583</td>\n",
       "      <td>-2.212479</td>\n",
       "      <td>...</td>\n",
       "      <td>-0.191028</td>\n",
       "      <td>-0.162053</td>\n",
       "      <td>-0.498834</td>\n",
       "      <td>-0.221841</td>\n",
       "      <td>-0.366182</td>\n",
       "      <td>-0.313288</td>\n",
       "      <td>-0.272695</td>\n",
       "      <td>-0.070975</td>\n",
       "      <td>-0.059001</td>\n",
       "      <td>3.686837</td>\n",
       "    </tr>\n",
       "    <tr>\n",
       "      <th>50%</th>\n",
       "      <td>79878.500000</td>\n",
       "      <td>-0.865550</td>\n",
       "      <td>1.002522</td>\n",
       "      <td>-1.493037</td>\n",
       "      <td>1.455080</td>\n",
       "      <td>-0.473225</td>\n",
       "      <td>-0.679787</td>\n",
       "      <td>-0.776350</td>\n",
       "      <td>0.171774</td>\n",
       "      <td>-0.789253</td>\n",
       "      <td>...</td>\n",
       "      <td>0.036681</td>\n",
       "      <td>0.161557</td>\n",
       "      <td>0.028015</td>\n",
       "      <td>-0.025447</td>\n",
       "      <td>0.005197</td>\n",
       "      <td>0.028835</td>\n",
       "      <td>-0.010256</td>\n",
       "      <td>0.054459</td>\n",
       "      <td>0.034818</td>\n",
       "      <td>26.021431</td>\n",
       "    </tr>\n",
       "    <tr>\n",
       "      <th>75%</th>\n",
       "      <td>134440.096582</td>\n",
       "      <td>0.793261</td>\n",
       "      <td>2.880624</td>\n",
       "      <td>0.272278</td>\n",
       "      <td>4.265402</td>\n",
       "      <td>0.389076</td>\n",
       "      <td>0.029502</td>\n",
       "      <td>0.170341</td>\n",
       "      <td>0.864936</td>\n",
       "      <td>0.082537</td>\n",
       "      <td>...</td>\n",
       "      <td>0.423540</td>\n",
       "      <td>0.649931</td>\n",
       "      <td>0.545964</td>\n",
       "      <td>0.195289</td>\n",
       "      <td>0.357827</td>\n",
       "      <td>0.360242</td>\n",
       "      <td>0.315155</td>\n",
       "      <td>0.410068</td>\n",
       "      <td>0.204159</td>\n",
       "      <td>99.990000</td>\n",
       "    </tr>\n",
       "    <tr>\n",
       "      <th>max</th>\n",
       "      <td>172792.000000</td>\n",
       "      <td>2.454930</td>\n",
       "      <td>22.057729</td>\n",
       "      <td>9.382558</td>\n",
       "      <td>16.875344</td>\n",
       "      <td>34.801666</td>\n",
       "      <td>73.301626</td>\n",
       "      <td>120.589494</td>\n",
       "      <td>20.007208</td>\n",
       "      <td>15.594995</td>\n",
       "      <td>...</td>\n",
       "      <td>38.117209</td>\n",
       "      <td>27.202839</td>\n",
       "      <td>10.503090</td>\n",
       "      <td>22.528412</td>\n",
       "      <td>4.584549</td>\n",
       "      <td>7.519589</td>\n",
       "      <td>3.463246</td>\n",
       "      <td>31.612198</td>\n",
       "      <td>33.847808</td>\n",
       "      <td>25691.160000</td>\n",
       "    </tr>\n",
       "  </tbody>\n",
       "</table>\n",
       "<p>8 rows × 30 columns</p>\n",
       "</div>"
      ],
      "text/plain": [
       "                Time             V1             V2             V3  \\\n",
       "count  464004.000000  464004.000000  464004.000000  464004.000000   \n",
       "mean    87722.742891      -2.590251       1.923229      -3.723827   \n",
       "std     48353.746797       5.588141       3.683727       6.349665   \n",
       "min         0.000000     -56.407510     -72.715728     -48.325589   \n",
       "25%     45647.979035      -3.257941      -0.101052      -5.150816   \n",
       "50%     79878.500000      -0.865550       1.002522      -1.493037   \n",
       "75%    134440.096582       0.793261       2.880624       0.272278   \n",
       "max    172792.000000       2.454930      22.057729       9.382558   \n",
       "\n",
       "                  V4             V5             V6             V7  \\\n",
       "count  464004.000000  464004.000000  464004.000000  464004.000000   \n",
       "mean        2.315335      -1.726707      -0.731233      -3.003913   \n",
       "std         3.174911       4.225868       1.701444       5.840154   \n",
       "min        -5.683171    -113.743307     -26.160506     -43.557242   \n",
       "25%        -0.060523      -1.855876      -1.553848      -3.271172   \n",
       "50%         1.455080      -0.473225      -0.679787      -0.776350   \n",
       "75%         4.265402       0.389076       0.029502       0.170341   \n",
       "max        16.875344      34.801666      73.301626     120.589494   \n",
       "\n",
       "                  V8             V9      ...                  V20  \\\n",
       "count  464004.000000  464004.000000      ...        464004.000000   \n",
       "mean        0.342564      -1.332016      ...             0.195179   \n",
       "std         4.729680       2.276603      ...             1.053814   \n",
       "min       -73.216718     -13.434066      ...           -54.497720   \n",
       "25%        -0.192583      -2.212479      ...            -0.191028   \n",
       "50%         0.171774      -0.789253      ...             0.036681   \n",
       "75%         0.864936       0.082537      ...             0.423540   \n",
       "max        20.007208      15.594995      ...            38.117209   \n",
       "\n",
       "                 V21            V22            V23            V24  \\\n",
       "count  464004.000000  464004.000000  464004.000000  464004.000000   \n",
       "mean        0.330063       0.022424      -0.001303      -0.042682   \n",
       "std         2.603514       1.111118       0.927101       0.541073   \n",
       "min       -34.830382      -9.499423     -44.807735      -2.836627   \n",
       "25%        -0.162053      -0.498834      -0.221841      -0.366182   \n",
       "50%         0.161557       0.028015      -0.025447       0.005197   \n",
       "75%         0.649931       0.545964       0.195289       0.357827   \n",
       "max        27.202839      10.503090      22.528412       4.584549   \n",
       "\n",
       "                 V25            V26            V27            V28  \\\n",
       "count  464004.000000  464004.000000  464004.000000  464004.000000   \n",
       "mean        0.015112       0.030246       0.059494       0.031452   \n",
       "std         0.605626       0.454170       0.987594       0.424124   \n",
       "min       -10.295397      -2.604551     -22.565679     -15.430084   \n",
       "25%        -0.313288      -0.272695      -0.070975      -0.059001   \n",
       "50%         0.028835      -0.010256       0.054459       0.034818   \n",
       "75%         0.360242       0.315155       0.410068       0.204159   \n",
       "max         7.519589       3.463246      31.612198      33.847808   \n",
       "\n",
       "              Amount  \n",
       "count  464004.000000  \n",
       "mean       97.359999  \n",
       "std       221.640487  \n",
       "min         0.000000  \n",
       "25%         3.686837  \n",
       "50%        26.021431  \n",
       "75%        99.990000  \n",
       "max     25691.160000  \n",
       "\n",
       "[8 rows x 30 columns]"
      ]
     },
     "execution_count": 27,
     "metadata": {},
     "output_type": "execute_result"
    }
   ],
   "source": [
    "#We see that a lot of our features are correlated with each other especially the features from V1 to V18\n",
    "#Lets check how the data vary with respect to each other\n",
    "sampled_data.drop('Class',1).describe()"
   ]
  },
  {
   "cell_type": "code",
   "execution_count": 29,
   "metadata": {
    "collapsed": false
   },
   "outputs": [],
   "source": [
    "#Since there are lots of variations in the data we will normalize the data to make it easier for analysis.\n",
    "\n",
    "scaler=StandardScaler(with_mean=True, with_std=True)\n",
    "scaled_features=scaler.fit_transform(sampled_data.drop('Class',1))\n",
    "scaled_sampled_train=pd.DataFrame(scaled_features, index=sampled_data.index,columns=sampled_data.drop('Class',1).columns)\n",
    "scaled_sampled_train['Class']=sampled_data['Class']"
   ]
  },
  {
   "cell_type": "code",
   "execution_count": 30,
   "metadata": {
    "collapsed": true
   },
   "outputs": [],
   "source": [
    "#Applying scaling on the test dataset\n",
    "\n",
    "scaled_features_test=scaler.fit_transform(test.drop('Class',1))\n",
    "scaled_test=pd.DataFrame(scaled_features_test, index=test.index, columns=test.drop('Class',1).columns)\n",
    "scaled_test['Class']=test['Class']"
   ]
  },
  {
   "cell_type": "code",
   "execution_count": 31,
   "metadata": {
    "collapsed": false
   },
   "outputs": [
    {
     "data": {
      "text/plain": [
       "PCA(copy=True, iterated_power='auto', n_components=None, random_state=None,\n",
       "  svd_solver='auto', tol=0.0, whiten=True)"
      ]
     },
     "execution_count": 31,
     "metadata": {},
     "output_type": "execute_result"
    }
   ],
   "source": [
    "pca=PCA(whiten=True)\n",
    "pca.fit(scaled_sampled_train.drop('Class',1))"
   ]
  },
  {
   "cell_type": "code",
   "execution_count": 32,
   "metadata": {
    "collapsed": false
   },
   "outputs": [
    {
     "data": {
      "text/plain": [
       "<matplotlib.collections.PathCollection at 0x12c30c850>"
      ]
     },
     "execution_count": 32,
     "metadata": {},
     "output_type": "execute_result"
    },
    {
     "data": {
      "image/png": "[encoded data removed]",
      "text/plain": [
       "<matplotlib.figure.Figure at 0x12b5256d0>"
      ]
     },
     "metadata": {},
     "output_type": "display_data"
    }
   ],
   "source": [
    "plt.figure(figsize=(15,10))\n",
    "list_k=range(1,31)\n",
    "plt.scatter(list_k,pca.explained_variance_ratio_.cumsum())"
   ]
  },
  {
   "cell_type": "code",
   "execution_count": 32,
   "metadata": {
    "collapsed": false
   },
   "outputs": [
    {
     "data": {
      "text/plain": [
       "Index([u'Time', u'V1', u'V2', u'V3', u'V4', u'V5', u'V6', u'V7', u'V8', u'V9',\n",
       "       u'V10', u'V11', u'V12', u'V13', u'V14', u'V15', u'V16', u'V17', u'V18',\n",
       "       u'V19', u'V20', u'V21', u'V22', u'V23', u'V24', u'V25', u'V26', u'V27',\n",
       "       u'V28', u'Amount', u'Class'],\n",
       "      dtype='object')"
      ]
     },
     "execution_count": 32,
     "metadata": {},
     "output_type": "execute_result"
    }
   ],
   "source": [
    "sampled_data.columns"
   ]
  },
  {
   "cell_type": "code",
   "execution_count": null,
   "metadata": {
    "collapsed": true
   },
   "outputs": [],
   "source": []
  }
 ],
 "metadata": {
  "kernelspec": {
   "display_name": "Python [default]",
   "language": "python",
   "name": "python2"
  },
  "language_info": {
   "codemirror_mode": {
    "name": "ipython",
    "version": 2
   },
   "file_extension": ".py",
   "mimetype": "text/x-python",
   "name": "python",
   "nbconvert_exporter": "python",
   "pygments_lexer": "ipython2",
   "version": "2.7.13"
  }
 },
 "nbformat": 4,
 "nbformat_minor": 2
}
